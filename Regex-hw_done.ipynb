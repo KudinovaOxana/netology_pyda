{
 "cells": [
  {
   "cell_type": "markdown",
   "metadata": {},
   "source": [
    "# Домашнее задание к лекции \"Регулярные выражения\"\n",
    "Для зачета необходимо выполнить 4 задания.  \n",
    "Для зачета с отличием – все."
   ]
  },
  {
   "cell_type": "markdown",
   "metadata": {},
   "source": [
    "## Задание 1"
   ]
  },
  {
   "cell_type": "markdown",
   "metadata": {},
   "source": [
    "Напишите функцию, которая принимает на вход строку и проверяет является ли она валидным транспортным номером. Если да, то функция должна возвращать отдельно номер и регион."
   ]
  },
  {
   "cell_type": "code",
   "execution_count": 1,
   "metadata": {},
   "outputs": [],
   "source": [
    "import re"
   ]
  },
  {
   "cell_type": "code",
   "execution_count": 20,
   "metadata": {},
   "outputs": [
    {
     "name": "stdout",
     "output_type": "stream",
     "text": [
      "Введите номер ТС слитно:в907вм93\n"
     ]
    },
    {
     "data": {
      "text/plain": [
       "'Номер ТС: В907ВМ, код региона: 93'"
      ]
     },
     "execution_count": 20,
     "metadata": {},
     "output_type": "execute_result"
    }
   ],
   "source": [
    "auto_num = input('Введите номер ТС слитно:')\n",
    "def check_auto_num(auto_num):\n",
    "    check_num = re.findall(r'([АВЕКМНОРСТУХ]{1}\\d{3}[АВЕКМНОРСТУХ]{2})(\\d{2,3}$)', auto_num, re.IGNORECASE)\n",
    "    if check_num:\n",
    "        return 'Номер ТС: ' + check_num[0][0].upper() + ', код региона: ' + check_num[0][1]\n",
    "    else:\n",
    "        return 'Неверный формат данных'\n",
    "\n",
    "check_auto_num(auto_num)"
   ]
  },
  {
   "cell_type": "markdown",
   "metadata": {},
   "source": [
    "## Задание 2"
   ]
  },
  {
   "cell_type": "markdown",
   "metadata": {},
   "source": [
    "Напишите функцию, которая проверяет e-mail адрес на валидность по стандарту RFC822: http://www.w3.org/Protocols/rfc822/. Для этого постарайтесь написать (в крайнем случае найти) самый полный шаблон для проверки e-mail адресов через регулярное выражение. Разберитесь и напишите примеры, какие ваш шаблон может не охватить."
   ]
  },
  {
   "cell_type": "code",
   "execution_count": 30,
   "metadata": {},
   "outputs": [
    {
     "name": "stdout",
     "output_type": "stream",
     "text": [
      "Введите e-mail: maneki7neko@gmail.com\n"
     ]
    },
    {
     "data": {
      "text/plain": [
       "'valid adress'"
      ]
     },
     "execution_count": 30,
     "metadata": {},
     "output_type": "execute_result"
    }
   ],
   "source": [
    "mail = input('Введите e-mail: ')\n",
    "def adress_check(mail):\n",
    "    mail_check = re.compile(r'^[a-zA-Z0-9_.+-]+@[a-zA-Z0-9-]+\\.[a-zA-Z0-9-.]+$')\n",
    "    if not mail_check.match(mail):\n",
    "        return 'invalid adress'\n",
    "    return 'valid adress'\n",
    "adress_check(mail)"
   ]
  },
  {
   "cell_type": "markdown",
   "metadata": {},
   "source": [
    "Ограничения шаблона:\n",
    "(here)a@b.com - адреса с комментариями\n",
    "bob.\"@\".smith@mywebsite.com - предполагается только один символ @, а также спецсимволы, заключенные в\n",
    "кавычки, шаблон не пропускает\n",
    "#!$%&'*+-/=?^_`{}|~@example.org - адреса, включающие спецсимволы"
   ]
  },
  {
   "cell_type": "markdown",
   "metadata": {},
   "source": [
    "## Задание 3\n",
    "Напишите функцию, которая будет удалять все последовательные повторы слов из заданной строки."
   ]
  },
  {
   "cell_type": "code",
   "execution_count": 39,
   "metadata": {},
   "outputs": [],
   "source": [
    "stroka = 'Плывет, плывет кораблик, Кораблик золотой, Везет, везет подарки, Подарки нам с тобой.'"
   ]
  },
  {
   "cell_type": "code",
   "execution_count": 40,
   "metadata": {},
   "outputs": [
    {
     "data": {
      "text/plain": [
       "'Плывет кораблик золотой Везет подарки нам с тобой'"
      ]
     },
     "execution_count": 40,
     "metadata": {},
     "output_type": "execute_result"
    }
   ],
   "source": [
    "def del_repeats(stroka):\n",
    "    new_str1 = re.sub(r'\\W+', ' ', stroka).strip()\n",
    "    new_str2 = re.sub(r'\\b([^\\W\\d]+)(\\s+\\1)+\\b', r'\\1',new_str1, flags=re.I)\n",
    "    return new_str2\n",
    "del_repeats(stroka)"
   ]
  },
  {
   "cell_type": "markdown",
   "metadata": {},
   "source": [
    "## Задание 4\n",
    "Напишите функцию, которая будет проверять номер сотового телефона на валидность, если он валиден, то переводить его в формат:   \n",
    "+7(xxx)-xxx-xx-xx  \n",
    "Постарайтесь предусмотреть как можно больше адекватных форматов изначального ввода номера.\n",
    "Примеры правильных и неправильных форматов:\n",
    "- +7 955 555-55-55;\n",
    "- 955555555;\n",
    "- 8(955)555-55-55;\n",
    "- +7 955 555 55 55;\n",
    "- 7(955) 555-55-55;\n",
    "- +7 955+555+55+55."
   ]
  },
  {
   "cell_type": "code",
   "execution_count": 58,
   "metadata": {},
   "outputs": [
    {
     "data": {
      "text/plain": [
       "'+7(955)-555-55-55'"
      ]
     },
     "execution_count": 58,
     "metadata": {},
     "output_type": "execute_result"
    }
   ],
   "source": [
    "def check_phone_number(number):\n",
    "    clear_number = re.sub(r'\\D','',number)\n",
    "    if len(clear_number) == 10:\n",
    "        return re.sub(r'(\\d{3})(\\d{3})(\\d{2})(\\d{2})', r'+7(\\1)-\\2-\\3-\\4',clear_number)\n",
    "    elif len(clear_number) == 11 and clear_number[0] in ['7', '8']:\n",
    "        return re.sub(r'\\d(\\d{3})(\\d{3})(\\d{2})(\\d{2})', r'+7(\\1)-\\2-\\3-\\4',clear_number)\n",
    "    else:\n",
    "        return 'Номер некорректный'\n",
    "check_phone_number('8(955)555-55-55')"
   ]
  }
 ],
 "metadata": {
  "kernelspec": {
   "display_name": "Python 3",
   "language": "python",
   "name": "python3"
  },
  "language_info": {
   "codemirror_mode": {
    "name": "ipython",
    "version": 3
   },
   "file_extension": ".py",
   "mimetype": "text/x-python",
   "name": "python",
   "nbconvert_exporter": "python",
   "pygments_lexer": "ipython3",
   "version": "3.7.4"
  }
 },
 "nbformat": 4,
 "nbformat_minor": 2
}
