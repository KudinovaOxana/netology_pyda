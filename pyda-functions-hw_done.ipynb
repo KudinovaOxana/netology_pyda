{
 "cells": [
  {
   "cell_type": "markdown",
   "metadata": {},
   "source": [
    "## Задание 1"
   ]
  },
  {
   "cell_type": "markdown",
   "metadata": {},
   "source": [
    "Дан список вида:"
   ]
  },
  {
   "cell_type": "code",
   "execution_count": 26,
   "metadata": {},
   "outputs": [],
   "source": [
    "data = [\n",
    "    [13, 25, 23, 34],\n",
    "    [45, 32, 44, 47],\n",
    "    [12, 33, 23, 95],\n",
    "    [13, 53, 34, 35]\n",
    "]"
   ]
  },
  {
   "cell_type": "markdown",
   "metadata": {},
   "source": [
    "Напишите функцию, которая возвращает сумму элементов на диагонали. Т. е. 13+32+23+35.  \n",
    "Список может быть любой длины, но всегда является \"квадратным\" (количество элементов во вложенных списках равно их количеству)."
   ]
  },
  {
   "cell_type": "code",
   "execution_count": 31,
   "metadata": {},
   "outputs": [
    {
     "name": "stdout",
     "output_type": "stream",
     "text": [
      "103\n"
     ]
    }
   ],
   "source": [
    "def main_diagonal(data):\n",
    "    diagonal = sum([data[i][i] for i in range(len(data))])\n",
    "    return diagonal\n",
    "print(main_diagonal(data))"
   ]
  },
  {
   "cell_type": "markdown",
   "metadata": {},
   "source": [
    "## Задание 2"
   ]
  },
  {
   "cell_type": "markdown",
   "metadata": {},
   "source": [
    "Напишите функцию, возвращающую сумму первых n чисел Фибоначчи (для этого вам может понадобится ознакомиться с рекурсией)."
   ]
  },
  {
   "cell_type": "code",
   "execution_count": 69,
   "metadata": {},
   "outputs": [
    {
     "name": "stdout",
     "output_type": "stream",
     "text": [
      "20\n"
     ]
    }
   ],
   "source": [
    "def fibonacci(n):\n",
    "    seq = [0,1]\n",
    "    for i in range(2,n + 1):\n",
    "        seq.append(seq[i - 1] + seq[i - 2])\n",
    "    return sum(seq)\n",
    "print(fibonacci(6))"
   ]
  },
  {
   "cell_type": "markdown",
   "metadata": {},
   "source": [
    "## Задание 3\n"
   ]
  },
  {
   "cell_type": "markdown",
   "metadata": {},
   "source": [
    "Напишите функцию, преобразующую произвольный список вида ['2018-01-01', 'yandex', 'cpc', 100] (он может быть любой длины) в словарь {'2018-01-01': {'yandex': {'cpc': 100}}}"
   ]
  },
  {
   "cell_type": "code",
   "execution_count": 70,
   "metadata": {},
   "outputs": [],
   "source": [
    "some_list =  ['2018-01-01', 'yandex', 'cpc', 100]"
   ]
  },
  {
   "cell_type": "code",
   "execution_count": 72,
   "metadata": {},
   "outputs": [
    {
     "data": {
      "text/plain": [
       "{'2018-01-01': {'yandex': {'cpc': 100}}}"
      ]
     },
     "execution_count": 72,
     "metadata": {},
     "output_type": "execute_result"
    }
   ],
   "source": [
    "def nested_dict(some_list):\n",
    "    value = some_list[-1]\n",
    "    for i in some_list[-2::-1]:\n",
    "        value = {i:value}\n",
    "    return value\n",
    "nested_dict(some_list)"
   ]
  },
  {
   "cell_type": "markdown",
   "metadata": {},
   "source": [
    "## Задание 4"
   ]
  },
  {
   "cell_type": "markdown",
   "metadata": {},
   "source": [
    "Вы работаете секретарем и вам постоянно приходят различные документы. Вы должны быть очень внимательны, чтобы не потерять ни один документ. Каталог документов хранится в следующем виде:"
   ]
  },
  {
   "cell_type": "code",
   "execution_count": 37,
   "metadata": {},
   "outputs": [],
   "source": [
    "documents = [\n",
    "    {'type': 'passport', 'number': '2207 876234', 'name': 'Василий Гупкин'},\n",
    "    {'type': 'invoice', 'number': '11-2', 'name': 'Геннадий Покемонов'},\n",
    "    {'type': 'insurance', 'number': '10006', 'name': 'Аристарх Павлов'}\n",
    "]"
   ]
  },
  {
   "cell_type": "markdown",
   "metadata": {},
   "source": [
    "Перечень полок, на которых находятся документы хранится в следующем виде:"
   ]
  },
  {
   "cell_type": "code",
   "execution_count": 38,
   "metadata": {},
   "outputs": [],
   "source": [
    "directories = {\n",
    "    '1': ['2207 876234', '11-2', '5455 028765'],\n",
    "    '2': ['10006', '5400 028765', '5455 002299'],\n",
    "    '3': []\n",
    "}"
   ]
  },
  {
   "cell_type": "markdown",
   "metadata": {},
   "source": [
    "Необходимо реализовать пользовательские команды (внимание! это не название функций, которые должны быть выразительными, а команды, которые вводит пользователь, чтобы получить необходимый результат):\n",
    "  \n",
    "- p – people – команда, которая спросит номер документа и выведет имя человека, которому он принадлежит;  \n",
    "- s – shelf – команда, которая спросит номер документа и выведет номер полки, на которой он находится  \n",
    "Правильно обработайте ситуацию, когда пользователь будет вводить несуществующий документ.\n",
    "- l – list – команда, которая выведет список всех документов в формате   \n",
    "**passport \"2207 876234\" \"Василий Гупкин\"**  \n",
    "- as – add shelf – команда, которая спросит номер новой полки и добавит ее в перечень\n",
    "- d – delete – команда, которая спросит номер документа и удалит его из каталога и из перечня полок. Предусмотрите сценарий, когда пользователь вводит несуществующий документ;  \n",
    "- m – move – команда, которая спросит номер документа и целевую полку и переместит его с текущей полки на целевую. Корректно обработайте кейсы, когда пользователь пытается переместить несуществующий документ или переместить документ на несуществующую полку;  \n",
    "- a – add – команда, которая добавит новый документ в каталог и в перечень полок, спросив его номер, тип, имя владельца и номер полки, на котором он будет храниться."
   ]
  },
  {
   "cell_type": "code",
   "execution_count": 41,
   "metadata": {},
   "outputs": [
    {
     "data": {
      "text/plain": [
       "'Геннадий Покемонов'"
      ]
     },
     "execution_count": 41,
     "metadata": {},
     "output_type": "execute_result"
    }
   ],
   "source": [
    "def get_people(num_doc):\n",
    "    for person_docs in documents:\n",
    "      if person_docs['number'] == num_doc:\n",
    "        return person_docs['name']\n",
    "    return 'Такого документа нет в базе'\n",
    "get_people('11-2')"
   ]
  },
  {
   "cell_type": "code",
   "execution_count": 4,
   "metadata": {},
   "outputs": [
    {
     "data": {
      "text/plain": [
       "'2'"
      ]
     },
     "execution_count": 4,
     "metadata": {},
     "output_type": "execute_result"
    }
   ],
   "source": [
    "def get_shelf(num_doc):\n",
    "    for shelf, number in directories.items():\n",
    "      if num_doc in number:\n",
    "        return shelf\n",
    "    return 'Такого документа нет в базе'\n",
    "get_shelf(num_doc)"
   ]
  },
  {
   "cell_type": "code",
   "execution_count": 5,
   "metadata": {},
   "outputs": [
    {
     "name": "stdout",
     "output_type": "stream",
     "text": [
      "passport   2207 876234   Василий Гупкин\n",
      "invoice   11-2   Геннадий Покемонов\n",
      "insurance   10006   Аристарх Павлов\n"
     ]
    }
   ],
   "source": [
    "def get_list():\n",
    "    for person_docs in documents:\n",
    "      print(person_docs['type'],' ', person_docs['number'],' ', person_docs['name'])\n",
    "    \n",
    "get_list()"
   ]
  },
  {
   "cell_type": "code",
   "execution_count": 6,
   "metadata": {},
   "outputs": [
    {
     "name": "stdout",
     "output_type": "stream",
     "text": [
      "{'1': ['2207 876234', '11-2', '5455 028765'], '2': ['10006', '5400 028765', '5455 002299'], '3': [], '5': []}\n"
     ]
    }
   ],
   "source": [
    "def add_shelf(num_shef):\n",
    "    directories.setdefault(num_shef,[])\n",
    "    return directories\n",
    "add_shelf('5')\n",
    "print(directories)"
   ]
  },
  {
   "cell_type": "code",
   "execution_count": 23,
   "metadata": {},
   "outputs": [
    {
     "name": "stdout",
     "output_type": "stream",
     "text": [
      "[{'type': 'passport', 'number': '2207 876234', 'name': 'Василий Гупкин'}, {'type': 'insurance', 'number': '10006', 'name': 'Аристарх Павлов'}]\n",
      "{'1': ['2207 876234', '5455 028765'], '2': ['10006', '5400 028765', '5455 002299'], '3': []}\n"
     ]
    }
   ],
   "source": [
    "def delete(num_doc):\n",
    "    del_switch = False\n",
    "    for person_docs in documents:\n",
    "      if person_docs['number'] == num_doc:\n",
    "        documents.remove(person_docs)\n",
    "        del_switch = True\n",
    "    if del_switch == False:\n",
    "      print('Такой документ не существует')\n",
    "    for key, value in directories.items():\n",
    "      if value.count(num_doc) != 0:\n",
    "        directories[key].remove(num_doc)\n",
    "delete('11-2')\n",
    "print(documents)\n",
    "print(directories)"
   ]
  },
  {
   "cell_type": "code",
   "execution_count": 24,
   "metadata": {},
   "outputs": [
    {
     "name": "stdout",
     "output_type": "stream",
     "text": [
      "{'1': ['2207 876234', '5455 028765'], '2': ['5400 028765', '5455 002299'], '3': ['10006']}\n"
     ]
    }
   ],
   "source": [
    "def move_doc(num_doc,new_shelf):\n",
    "    delete(num_doc)\n",
    "    if new_shelf in directories.keys():\n",
    "        directories[new_shelf].append(num_doc)\n",
    "    else:\n",
    "        print('Такой полки не существует')\n",
    "    return directories\n",
    "move_doc('10006','3')\n",
    "print(directories)"
   ]
  },
  {
   "cell_type": "code",
   "execution_count": 28,
   "metadata": {},
   "outputs": [
    {
     "name": "stdout",
     "output_type": "stream",
     "text": [
      "[{'type': 'passport', 'number': '2207 876234', 'name': 'Василий Гупкин'}, {'type': 'invoice', 'number': '11-2', 'name': 'Геннадий Покемонов'}, {'type': 'insurance', 'number': '10006', 'name': 'Аристарх Павлов'}, {'type': 'passport', 'number': '0304 666900', 'name': 'Лука Фомин'}]\n",
      "{'1': ['2207 876234', '11-2', '5455 028765', '0304 666900'], '2': ['10006', '5400 028765', '5455 002299'], '3': []}\n"
     ]
    }
   ],
   "source": [
    "def add_doc(num_doc, type_doc, name_doc, shelf):\n",
    "    if shelf not in directories:\n",
    "        print('Такой полки не существует')\n",
    "    else:\n",
    "        documents.append({'type': type_doc, 'number': num_doc, 'name': name_doc})\n",
    "        directories[shelf].append(num_doc)\n",
    "add_doc('0304 666900', 'passport', 'Лука Фомин', '1')\n",
    "print(documents)\n",
    "print(directories)"
   ]
  },
  {
   "cell_type": "code",
   "execution_count": 45,
   "metadata": {},
   "outputs": [
    {
     "name": "stdout",
     "output_type": "stream",
     "text": [
      "Введите команду: a\n",
      "Введите номер документа: 0304 666999\n",
      "Укажите тип документа: passport\n",
      "Введите название документа: Илья Козлов\n",
      "Укажите номер полки, где будет храниться документ: 2\n",
      "[{'type': 'passport', 'number': '2207 876234', 'name': 'Василий Гупкин'}, {'type': 'insurance', 'number': '10006', 'name': 'Аристарх Павлов'}, {'type': 'passport', 'number': '0304 666999', 'name': 'Илья Козлов'}]\n",
      "{'1': ['2207 876234', '5455 028765'], '2': ['10006', '5400 028765', '5455 002299', '0304 666999'], '3': ['11-2']}\n"
     ]
    }
   ],
   "source": [
    "command = input('Введите команду: ')\n",
    "def main(command):\n",
    "    if command == 'p':\n",
    "        num_doc = input('Введите номер документа: ')\n",
    "        get_people(num_doc)\n",
    "    elif command == 's':\n",
    "        num_doc = input('Введите номер документа: ')\n",
    "        get_shelf(num_doc)\n",
    "    elif command == 'l':\n",
    "        get_list()\n",
    "    elif command == 'as':\n",
    "        num_shelf = input('Введите номер новой полки: ')\n",
    "        add_shelf(num_shef)\n",
    "    elif command == 'd':\n",
    "        num_doc = input('Введите номер документа: ')\n",
    "        delete(num_doc)\n",
    "    elif command == 'm':\n",
    "        num_doc = input('Введите номер документа: ')\n",
    "        new_shelf = input('Введите номер полки, на которую следует поместить документ: ')\n",
    "        move_doc(num_doc,new_shelf)\n",
    "    elif command == 'a':\n",
    "        num_doc = input('Введите номер документа: ')\n",
    "        type_doc = input('Укажите тип документа: ')\n",
    "        name_doc = input('Введите название документа: ')\n",
    "        shelf = input('Укажите номер полки, где будет храниться документ: ')\n",
    "        add_doc(num_doc, type_doc, name_doc, shelf)\n",
    "    else:\n",
    "        print('Введена неверная команда')\n",
    "    return documents, directories\n",
    "main(command)\n",
    "print(documents)\n",
    "print(directories)    "
   ]
  }
 ],
 "metadata": {
  "kernelspec": {
   "display_name": "Python 3",
   "language": "python",
   "name": "python3"
  },
  "language_info": {
   "codemirror_mode": {
    "name": "ipython",
    "version": 3
   },
   "file_extension": ".py",
   "mimetype": "text/x-python",
   "name": "python",
   "nbconvert_exporter": "python",
   "pygments_lexer": "ipython3",
   "version": "3.7.4"
  }
 },
 "nbformat": 4,
 "nbformat_minor": 2
}
