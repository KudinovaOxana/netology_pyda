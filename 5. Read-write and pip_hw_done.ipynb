{
 "cells": [
  {
   "cell_type": "markdown",
   "metadata": {},
   "source": [
    "# Домашнее задание\n",
    "1. Переведите содержимое файла purchase_log.txt в словарь purchases вида:\n",
    "```python\n",
    "{'1840e0b9d4': 'Продукты', ...}\n",
    "```\n",
    "\n",
    "2. Для каждого user_id в файле visit_log.csv добавьте третий столбец с категорией покупки (если покупка была).\n",
    "\n",
    "3. Запишите в файл funnel.csv визиты из файла visit_log.csv, в которых были покупки с указанием категории.\n",
    "\n",
    "Учтите условия на данные:\n",
    "- содержимое purchase_log.txt помещается в оперативную память компьютера\n",
    "- содержимое visit_log.csv - нет; используйте только построчную обработку этого файла"
   ]
  },
  {
   "cell_type": "code",
   "execution_count": null,
   "metadata": {},
   "outputs": [],
   "source": [
    "import json\n",
    "dict_ = {}\n",
    "with open('D:/PYDA/lesson 5/5._Read-write_and_pip/purchase_log.txt','r', encoding='utf-8') as f:\n",
    "    next(f)\n",
    "    for line in f:\n",
    "        line = json.loads(line.strip())\n",
    "        dict_[line['user_id']] = line['category']"
   ]
  },
  {
   "cell_type": "code",
   "execution_count": null,
   "metadata": {},
   "outputs": [],
   "source": [
    "with open('D:/PYDA/lesson 5/5._Read-write_and_pip/visit_log.csv.csv','r',encoding = 'utf-8') as v:\n",
    "    next(v)\n",
    "    with open('D:/PYDA/lesson 5/5._Read-write_and_pip/visit_log_3.csv','w', encoding = 'utf-8') as v3:\n",
    "        with open('D:/PYDA/lesson 5/5._Read-write_and_pip/funnel.csv',\"w\", encoding = 'utf-8') as funnel:\n",
    "            for str_ in v:\n",
    "                line_ = str_.strip().split(',')\n",
    "                user_id = line_[0]\n",
    "                category = dict_.get(user_id)\n",
    "                if line_[0] == user_id and category != None:\n",
    "                    new_line = line_.append(category)\n",
    "                    new_str = ','.join(line_) + '\\n'\n",
    "                    v3.write(new_str)\n",
    "                    if category != 'не определена':\n",
    "                        funnel.write(new_str)\n",
    "f.close()\n",
    "v.close()\n",
    "v3.close()\n",
    "funnel.close()"
   ]
  }
 ],
 "metadata": {
  "kernelspec": {
   "display_name": "Python 3",
   "language": "python",
   "name": "python3"
  },
  "language_info": {
   "codemirror_mode": {
    "name": "ipython",
    "version": 3
   },
   "file_extension": ".py",
   "mimetype": "text/x-python",
   "name": "python",
   "nbconvert_exporter": "python",
   "pygments_lexer": "ipython3",
   "version": "3.7.4"
  }
 },
 "nbformat": 4,
 "nbformat_minor": 4
}
