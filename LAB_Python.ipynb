{
 "cells": [
  {
   "cell_type": "markdown",
   "metadata": {},
   "source": [
    "Лабораторная работа по курсу «Python для анализа данных»"
   ]
  },
  {
   "cell_type": "markdown",
   "metadata": {},
   "source": [
    "Задача 1\n",
    "Дана строка\n",
    "string_01 = “Mama, just killed a man, put a gun against his head,\n",
    "pulled my trigger, now he's dead. Mama, life had just begun, but\n",
    "now I've gone and thrown it all away. Mama, ooh (any way the wind\n",
    "blows), didn't mean to make you cry. If I'm not back again this\n",
    "time tomorrow carry on, carry on as if nothing really matters.”\n",
    "1. Посчитайте, сколько в строке символов (исключая пробелы).\n",
    "2. Посчитайте, сколько в строке слов.\n",
    "3. Напишите функцию, которая будет принимать в качестве аргумента букву и\n",
    "выводить все слова из строки, заканчивающиеся на эту букву (например, “s”).\n",
    "4. Не обязательно: Напишите функцию, которая будет принимать в качестве\n",
    "аргумента букву и выводить все слова из строки, начинающиеся на эту букву\n",
    "(например, “m”)."
   ]
  },
  {
   "cell_type": "code",
   "execution_count": 59,
   "metadata": {},
   "outputs": [],
   "source": [
    "string_01 = \"Mama, just killed a man, put a gun against his head, pulled my trigger, now he's dead. Mama, life had just begun, but now I've gone and thrown it all away. Mama, ooh (any way the wind blows), didn't mean to make you cry. If I'm not back again this time tomorrow carry on, carry on as if nothing really matters.\""
   ]
  },
  {
   "cell_type": "code",
   "execution_count": 66,
   "metadata": {},
   "outputs": [
    {
     "data": {
      "text/plain": [
       "250"
      ]
     },
     "execution_count": 66,
     "metadata": {},
     "output_type": "execute_result"
    }
   ],
   "source": [
    "#1\n",
    "new_string = string_01.replace(' ','')\n",
    "len(new_string)"
   ]
  },
  {
   "cell_type": "code",
   "execution_count": 64,
   "metadata": {},
   "outputs": [
    {
     "data": {
      "text/plain": [
       "61"
      ]
     },
     "execution_count": 64,
     "metadata": {},
     "output_type": "execute_result"
    }
   ],
   "source": [
    "#2\n",
    "new_list = string_01.split(' ')\n",
    "len(new_list)"
   ]
  },
  {
   "cell_type": "code",
   "execution_count": 67,
   "metadata": {},
   "outputs": [
    {
     "data": {
      "text/plain": [
       "['his', 'hes', 'blows', 'this', 'as', 'matters']"
      ]
     },
     "execution_count": 67,
     "metadata": {},
     "output_type": "execute_result"
    }
   ],
   "source": [
    "3#\n",
    "import re\n",
    "\n",
    "def search_end(letter):\n",
    "    string_02 = re.sub(r'[^\\w\\s]','',string_01)\n",
    "    list_ = [ t for t in string_02.split() if t.endswith(str(letter)) ]\n",
    "    return list_\n",
    "\n",
    "search_end('s')"
   ]
  },
  {
   "cell_type": "markdown",
   "metadata": {},
   "source": [
    "Задача 2\n",
    "Напишите код, который будет генерировать случайную последовательность из 6\n",
    "цифр, одна из которых должна быть 3. Позиция цифры 3 должна\n",
    "определяться случайным образом. Результат должен быть строкой. Например:\n",
    "\"456309\" или \"330127\"."
   ]
  },
  {
   "cell_type": "code",
   "execution_count": null,
   "metadata": {},
   "outputs": [],
   "source": []
  },
  {
   "cell_type": "code",
   "execution_count": null,
   "metadata": {},
   "outputs": [],
   "source": [
    "Задача 3\n",
    "Дан список\n",
    "list_01 = [1, 1, 2, 3, 5, 8, 13, 21, 34, 55, 89, 144, 233, 377, 610]\n",
    "Напишите алгоритм, который выводит сумму элементов списка, которые больше\n",
    "10, но меньше 100."
   ]
  },
  {
   "cell_type": "code",
   "execution_count": 52,
   "metadata": {},
   "outputs": [],
   "source": [
    "list_01 = [1, 1, 2, 3, 5, 8, 13, 21, 34, 55, 89, 144, 233, 377, 610]"
   ]
  },
  {
   "cell_type": "code",
   "execution_count": 54,
   "metadata": {},
   "outputs": [
    {
     "name": "stdout",
     "output_type": "stream",
     "text": [
      "212\n"
     ]
    }
   ],
   "source": [
    "sum_ = 0\n",
    "for el in list_01:\n",
    "    if el < 100:\n",
    "        if el > 10:\n",
    "            sum_ += el\n",
    "print(sum_)            "
   ]
  },
  {
   "cell_type": "code",
   "execution_count": null,
   "metadata": {},
   "outputs": [],
   "source": [
    "Задача 4\n",
    "Данные студентов представлены в виде списка списков:\n",
    "students = [\n",
    " [\"0001\", \"Антонов\", \"Антон\", \"Игоревич\", \"20.08.2009\",\n",
    "\"БСТ161\"],\n",
    " [\"1102\", \"Богов\", \"Артем\", \"Игоревич\", \"25.01.2010\",\n",
    "\"БСТ162\"],Задача 4\n",
    "[\"0333\", \"Глаголева\", \"Анастасия\", \"Николаевна\",\n",
    "\"11.07.2009\", \"БСТ163\"],\n",
    " [\"4004\", \"Степанова\", \"Наталья\", \"Александровна\",\n",
    "\"13.02.2008\", \"БСТ161\"],\n",
    " [\"0045\", \"Боков\", \"Игорь\", \"Харитонович\", \"02.06.2009\",\n",
    "\"БСТ161\"],\n",
    " [\"0096\", \"Васильков\", \"Валентин\", \"Сергеевич\", \"20.03.2009\",\n",
    "\"БСТ164\"],\n",
    " [\"0607\", \"Сиропова\", \"Виолетта\", \"Эдуардовна\", \"28.05.2010\",\n",
    "\"БСТ162\"],\n",
    " [\"0309\", \"Шафутинский\", \"Михаил\", \"Михайлович\",\n",
    "\"03.09.2007\", \"БСТ163\"]\n",
    " ]\n",
    "1. Преобразуйте данные таким образом, чтобы они были представлены в виде\n",
    "словаря, в котором ключами являются номера студентов, а значениями —\n",
    "список из других данных о студентах.\n",
    "2. Напишите функцию, которая принимает в качестве аргумента номер студента и\n",
    "новый номер группы и позволяет изменить номер группы этого студента на\n",
    "новый.\n",
    "3. Напишите функцию, которая принимает номер группы и выводит список\n",
    "(фамилии, имена, отчества) всех студентов этой группы."
   ]
  },
  {
   "cell_type": "code",
   "execution_count": 6,
   "metadata": {},
   "outputs": [],
   "source": [
    "students = [\n",
    " [\"0001\", \"Антонов\", \"Антон\", \"Игоревич\", \"20.08.2009\",\n",
    "\"БСТ161\"],\n",
    " [\"1102\", \"Богов\", \"Артем\", \"Игоревич\", \"25.01.2010\",\n",
    "\"БСТ162\"],\n",
    "[\"0333\", \"Глаголева\", \"Анастасия\", \"Николаевна\",\n",
    "\"11.07.2009\", \"БСТ163\"],\n",
    " [\"4004\", \"Степанова\", \"Наталья\", \"Александровна\",\n",
    "\"13.02.2008\", \"БСТ161\"],\n",
    " [\"0045\", \"Боков\", \"Игорь\", \"Харитонович\", \"02.06.2009\",\n",
    "\"БСТ161\"],\n",
    " [\"0096\", \"Васильков\", \"Валентин\", \"Сергеевич\", \"20.03.2009\",\n",
    "\"БСТ164\"],\n",
    " [\"0607\", \"Сиропова\", \"Виолетта\", \"Эдуардовна\", \"28.05.2010\",\n",
    "\"БСТ162\"],\n",
    " [\"0309\", \"Шафутинский\", \"Михаил\", \"Михайлович\",\n",
    "\"03.09.2007\", \"БСТ163\"]\n",
    " ]"
   ]
  },
  {
   "cell_type": "code",
   "execution_count": 9,
   "metadata": {},
   "outputs": [
    {
     "name": "stdout",
     "output_type": "stream",
     "text": [
      "{'0001': ['Антонов', 'Антон', 'Игоревич', '20.08.2009', 'БСТ161'], '1102': ['Богов', 'Артем', 'Игоревич', '25.01.2010', 'БСТ162'], '0333': ['Глаголева', 'Анастасия', 'Николаевна', '11.07.2009', 'БСТ163'], '4004': ['Степанова', 'Наталья', 'Александровна', '13.02.2008', 'БСТ161'], '0045': ['Боков', 'Игорь', 'Харитонович', '02.06.2009', 'БСТ161'], '0096': ['Васильков', 'Валентин', 'Сергеевич', '20.03.2009', 'БСТ164'], '0607': ['Сиропова', 'Виолетта', 'Эдуардовна', '28.05.2010', 'БСТ162'], '0309': ['Шафутинский', 'Михаил', 'Михайлович', '03.09.2007', 'БСТ163']}\n"
     ]
    }
   ],
   "source": [
    "#1\n",
    "students_dict = {}\n",
    "for student in students:\n",
    "    students_dict.setdefault(student[0],0)\n",
    "    students_dict[student[0]] = student[1:]\n",
    "print(students_dict)"
   ]
  },
  {
   "cell_type": "code",
   "execution_count": 11,
   "metadata": {
    "scrolled": true
   },
   "outputs": [
    {
     "name": "stdout",
     "output_type": "stream",
     "text": [
      "Введите номер студента: 0309\n",
      "Введите новый номер группы: БСТ161\n"
     ]
    },
    {
     "data": {
      "text/plain": [
       "{'0001': ['Антонов', 'Антон', 'Игоревич', '20.08.2009', 'БСТ161'],\n",
       " '1102': ['Богов', 'Артем', 'Игоревич', '25.01.2010', 'БСТ162'],\n",
       " '0333': ['Глаголева', 'Анастасия', 'Николаевна', '11.07.2009', 'БСТ163'],\n",
       " '4004': ['Степанова', 'Наталья', 'Александровна', '13.02.2008', 'БСТ161'],\n",
       " '0045': ['Боков', 'Игорь', 'Харитонович', '02.06.2009', 'БСТ161'],\n",
       " '0096': ['Васильков', 'Валентин', 'Сергеевич', '20.03.2009', 'БСТ164'],\n",
       " '0607': ['Сиропова', 'Виолетта', 'Эдуардовна', '28.05.2010', 'БСТ162'],\n",
       " '0309': ['Шафутинский', 'Михаил', 'Михайлович', '03.09.2007', 'БСТ161']}"
      ]
     },
     "execution_count": 11,
     "metadata": {},
     "output_type": "execute_result"
    }
   ],
   "source": [
    "#2\n",
    "num_student = input('Введите номер студента: ')\n",
    "new_group = input('Введите новый номер группы: ')\n",
    "def group_change(num_student,new_group):\n",
    "    for key,value in students_dict.items():\n",
    "        students_dict[num_student][4] = new_group\n",
    "        return students_dict\n",
    "group_change(num_student,new_group)"
   ]
  },
  {
   "cell_type": "code",
   "execution_count": 17,
   "metadata": {},
   "outputs": [
    {
     "name": "stdout",
     "output_type": "stream",
     "text": [
      "Введите номер группы: БСТ161\n"
     ]
    },
    {
     "data": {
      "text/plain": [
       "[['Антонов', 'Антон', 'Игоревич'],\n",
       " ['Степанова', 'Наталья', 'Александровна'],\n",
       " ['Боков', 'Игорь', 'Харитонович'],\n",
       " ['Шафутинский', 'Михаил', 'Михайлович']]"
      ]
     },
     "execution_count": 17,
     "metadata": {},
     "output_type": "execute_result"
    }
   ],
   "source": [
    "#3\n",
    "num_group = input('Введите номер группы: ')\n",
    "def list_group(num_group):\n",
    "    group_list = []\n",
    "    for v in students_dict.values():\n",
    "        if v[4] == num_group:\n",
    "            group_list.append(v[0:3])\n",
    "    return group_list\n",
    "list_group(num_group)"
   ]
  },
  {
   "cell_type": "markdown",
   "metadata": {
    "scrolled": false
   },
   "source": [
    "Задача 5\n",
    "Дана матрица:\n",
    "matrix = [\n",
    "[0, 1, 2, 4, 8],\n",
    "[6, 2, 2, 1, 9],\n",
    "[3, 3, 3, 3, 3],\n",
    "[4, 6, 7, 1, 2],\n",
    "[5, 7, 3, 4, 0]\n",
    "]\n",
    "1. Выведите результат сложения всех элементов матрицы.\n",
    "2. Напишите алгоритм вычисления максимума из сумм элементов каждого\n",
    "столбца."
   ]
  },
  {
   "cell_type": "code",
   "execution_count": 18,
   "metadata": {},
   "outputs": [],
   "source": [
    "matrix = [\n",
    "[0, 1, 2, 4, 8],\n",
    "[6, 2, 2, 1, 9],\n",
    "[3, 3, 3, 3, 3],\n",
    "[4, 6, 7, 1, 2],\n",
    "[5, 7, 3, 4, 0]\n",
    "]"
   ]
  },
  {
   "cell_type": "code",
   "execution_count": 26,
   "metadata": {},
   "outputs": [],
   "source": [
    "import numpy as np"
   ]
  },
  {
   "cell_type": "code",
   "execution_count": 27,
   "metadata": {},
   "outputs": [
    {
     "data": {
      "text/plain": [
       "89"
      ]
     },
     "execution_count": 27,
     "metadata": {},
     "output_type": "execute_result"
    }
   ],
   "source": [
    "#1\n",
    "total_sum = np.sum(matrix)\n",
    "total_sum"
   ]
  },
  {
   "cell_type": "code",
   "execution_count": 51,
   "metadata": {},
   "outputs": [
    {
     "data": {
      "text/plain": [
       "22"
      ]
     },
     "execution_count": 51,
     "metadata": {},
     "output_type": "execute_result"
    }
   ],
   "source": [
    "#2\n",
    "m = np.asarray(matrix).sum(axis = 0)\n",
    "max_sum_column = np.max(m)\n",
    "max_sum_column"
   ]
  }
 ],
 "metadata": {
  "kernelspec": {
   "display_name": "Python 3",
   "language": "python",
   "name": "python3"
  },
  "language_info": {
   "codemirror_mode": {
    "name": "ipython",
    "version": 3
   },
   "file_extension": ".py",
   "mimetype": "text/x-python",
   "name": "python",
   "nbconvert_exporter": "python",
   "pygments_lexer": "ipython3",
   "version": "3.7.4"
  }
 },
 "nbformat": 4,
 "nbformat_minor": 2
}
