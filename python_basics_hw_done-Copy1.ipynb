{
 "cells": [
  {
   "cell_type": "markdown",
   "metadata": {
    "colab_type": "text",
    "id": "_fZQMZOYNPKD"
   },
   "source": [
    "**Задание 1**. Даны 2 строки: *long_phrase* и *short_phrase*. \n",
    "Напишите код, который проверяет действительно ли длинная фраза *long_phrase* длиннее короткой *short_phrase*. И выводит *True* или *False* в зависимости от результата сравнения."
   ]
  },
  {
   "cell_type": "code",
   "execution_count": 0,
   "metadata": {
    "colab": {},
    "colab_type": "code",
    "id": "ELWFtMsONPKI"
   },
   "outputs": [],
   "source": [
    "long_phrase = 'Насколько проще было бы писать программы, если бы не заказчики'\n",
    "short_phrase = '640Кб должно хватить для любых задач. Билл Гейтс (по легенде)'"
   ]
  },
  {
   "cell_type": "code",
   "execution_count": 36,
   "metadata": {
    "colab": {
     "base_uri": "https://localhost:8080/",
     "height": 35
    },
    "colab_type": "code",
    "id": "SkxhD21gNPKQ",
    "outputId": "362ee595-c0dd-4147-c6df-55b49542797f"
   },
   "outputs": [
    {
     "data": {
      "text/plain": [
       "True"
      ]
     },
     "execution_count": 36,
     "metadata": {
      "tags": []
     },
     "output_type": "execute_result"
    }
   ],
   "source": [
    "len(long_phrase)>len(short_phrase)"
   ]
  },
  {
   "cell_type": "markdown",
   "metadata": {
    "colab_type": "text",
    "id": "QIi1Bfv3NPKW"
   },
   "source": [
    "**Задание 2**. Дано значение объема файла в байтах. Напишите перевод этого значения в мегабайты в формате: \"*Объем файла равен 213.68Mb*\""
   ]
  },
  {
   "cell_type": "code",
   "execution_count": 0,
   "metadata": {
    "colab": {},
    "colab_type": "code",
    "id": "HN4GmhPuNPKY"
   },
   "outputs": [],
   "source": [
    "value_bytes = int(input('Введите объем файла в байтах'))\n",
    "value_mbytes = value_bytes * 10 ** (-6)\n",
    "print(value_mbytes)"
   ]
  },
  {
   "cell_type": "markdown",
   "metadata": {
    "colab_type": "text",
    "id": "ElRLzmeuNPKf"
   },
   "source": [
    "**Задание 3**. Разработать приложение для определения знака зодиака по дате рождения. Пример:\n",
    "\n",
    "Введите месяц: март\n",
    "\n",
    "Введите число: 6\n",
    "\n",
    "Вывод:\n",
    "Рыбы"
   ]
  },
  {
   "cell_type": "code",
   "execution_count": 3,
   "metadata": {
    "colab": {},
    "colab_type": "code",
    "id": "d9AqZycMNPKg"
   },
   "outputs": [
    {
     "name": "stdout",
     "output_type": "stream",
     "text": [
      "Введите месяц вашего рождения в числовом формате:10\n",
      "Введите число вашего рождения:5\n",
      "Весы\n"
     ]
    }
   ],
   "source": [
    "month = int(input('Введите месяц вашего рождения в числовом формате:'))#для исключения ошибок при вводе текста\n",
    "date_of_birthday = int(input('Введите число вашего рождения:'))\n",
    "if month < 1 or month > 12 or date_of_birthday < 1 or date_of_birthday > 31:\n",
    "  print('Неверная дата')\n",
    "elif month == 1 and date_of_birthday <= 19:\n",
    "  print('Козерог')\n",
    "elif (month == 1 and date_of_birthday > 19) or (month == 2 and date_of_birthday <= 19):\n",
    "  print('Водолей')\n",
    "elif (month == 2 and date_of_birthday > 19) or (month == 3 and date_of_birthday <= 20):\n",
    "  print('Рыбы')\n",
    "elif (month == 3 and date_of_birthday > 20) or (month == 4 and date_of_birthday <= 20):\n",
    "  print('Овен')\n",
    "elif (month == 4 and date_of_birthday > 20) or (month == 5 and date_of_birthday <= 20):\n",
    "  print('Телец')\n",
    "elif (month == 5 and date_of_birthday > 20) or (month == 6 and date_of_birthday <= 20):\n",
    "  print('Близнецы')\n",
    "elif (month == 6 and date_of_birthday > 20) or (month == 7 and date_of_birthday <= 22):\n",
    "  print('Рак')\n",
    "elif (month == 7 and date_of_birthday > 22) or (month == 8 and date_of_birthday <= 22):\n",
    "  print('Лев')\n",
    "elif (month == 8 and date_of_birthday > 22) or (month == 9 and date_of_birthday <= 22):\n",
    "  print('Дева')\n",
    "elif (month == 9 and date_of_birthday > 22) or (month == 10 and date_of_birthday <= 22):\n",
    "  print('Весы')\n",
    "elif (month == 10 and date_of_birthday > 22) or (month == 11 and date_of_birthday <= 22):\n",
    "  print('Скорпион')\n",
    "elif (month == 11 and date_of_birthday > 22) or (month == 12 and date_of_birthday <= 21):\n",
    "  print('Стрелец')\n",
    "else:\n",
    "  print('Козерог')"
   ]
  },
  {
   "cell_type": "markdown",
   "metadata": {
    "colab_type": "text",
    "id": "9h5fmduXNPKl"
   },
   "source": [
    "**Задание 4**. Нужно разработать приложение для финансового планирования.\n",
    "Приложение учитывает сколько уходит на ипотеку, \"на жизнь\" и сколько нужно отложить на пенсию.\n",
    "Пользователь вводит:\n",
    "- заработанную плату в месяц.\n",
    "- сколько процентов от ЗП уходит на ипотеку.\n",
    "- сколько процентов от ЗП уходит \"на жизнь\".\n",
    "- сколько раз приходит премия в год.\n",
    "\n",
    "Остальная часть заработанной платы откладывается на пенсию.\n",
    "\n",
    "Также пользователю приходит премия в размере зарплаты, от которой половина уходит на отпуск, а вторая половина откладывается.\n",
    "\n",
    "Программа должна учитывать сколько премий было в год.\n",
    "\n",
    "Нужно вывести сколько денег тратит пользователь на ипотеку и сколько он накопит за год.\n",
    "\n",
    "Пример:\n",
    "\n",
    "Введите заработанную плату в месяц: 100000\n",
    "\n",
    "Введите сколько процентов уходит на ипотеку: 30\n",
    "\n",
    "Введите сколько процентов уходит на жизнь: 50\n",
    "\n",
    "Введите количество премий за год: 2\n",
    "\n",
    "Вывод:\n",
    "На ипотеку было потрачено: 360000 рублей\n",
    "Было накоплено: 340000 рублей"
   ]
  },
  {
   "cell_type": "code",
   "execution_count": 49,
   "metadata": {
    "colab": {
     "base_uri": "https://localhost:8080/",
     "height": 121
    },
    "colab_type": "code",
    "id": "vYUPLMHoNPKn",
    "outputId": "653cb950-0350-42df-c3ba-664afc0de329"
   },
   "outputs": [
    {
     "name": "stdout",
     "output_type": "stream",
     "text": [
      "Введите заработную плату в месяц: 100000\n",
      "Введите долю ипотечных платежей: 0.3\n",
      "Введите долю текущих расходов: 0.5\n",
      "Введите количество премий в год: 2\n",
      "На ипотеку было потрачено за год:  360000.0\n",
      "Пенсионные накопления за год составили:  340000.0\n"
     ]
    }
   ],
   "source": [
    "salary = float(input('Введите заработную плату в месяц: '))\n",
    "mortgage_share = float(input('Введите долю ипотечных платежей: '))\n",
    "current_expenses_share = float(input('Введите долю текущих расходов: '))\n",
    "bonus_freq = int(input('Введите количество премий в год: '))\n",
    "mortgage = salary * 12 * mortgage_share\n",
    "retirement_savings = salary * 12 + salary * bonus_freq / 2 - salary * 12 * current_expenses_share - mortgage\n",
    "print('На ипотеку было потрачено за год: ', str(mortgage))\n",
    "print('Пенсионные накопления за год составили: ', str(retirement_savings))"
   ]
  }
 ],
 "metadata": {
  "colab": {
   "collapsed_sections": [],
   "name": "python-basics-hw.ipynb",
   "provenance": []
  },
  "kernelspec": {
   "display_name": "Python 3",
   "language": "python",
   "name": "python3"
  },
  "language_info": {
   "codemirror_mode": {
    "name": "ipython",
    "version": 3
   },
   "file_extension": ".py",
   "mimetype": "text/x-python",
   "name": "python",
   "nbconvert_exporter": "python",
   "pygments_lexer": "ipython3",
   "version": "3.7.4"
  }
 },
 "nbformat": 4,
 "nbformat_minor": 1
}
