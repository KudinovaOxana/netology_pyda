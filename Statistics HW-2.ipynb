{
 "cells": [
  {
   "cell_type": "markdown",
   "metadata": {},
   "source": [
    "# Statistics HW-2"
   ]
  },
  {
   "cell_type": "code",
   "execution_count": 30,
   "metadata": {},
   "outputs": [],
   "source": [
    "import numpy as np\n",
    "from scipy.optimize import approx_fprime, minimize\n",
    "from scipy.misc import derivative\n",
    "import matplotlib.pyplot as plt"
   ]
  },
  {
   "cell_type": "markdown",
   "metadata": {},
   "source": [
    "Задание 1\n",
    "Придумайте функции со следующими свойствами (в a) b) c) область определения X любая, какая вам удобна, главное - функция с нужными свойствами):\n",
    "\n",
    "a) бесконечное количество локальных экстремумов\n",
    "\n",
    "b) 2 локальных экстремума\n",
    "\n",
    "с) 3 локальных экстремума\n",
    "\n",
    "d*) область определения функции - 1 точка"
   ]
  },
  {
   "cell_type": "markdown",
   "metadata": {},
   "source": [
    "а) y = x + cos2x\n",
    "\n",
    "b) y = (x^2 + x - 2)/(x-2) - локальный минимум и локальный максимум\n",
    "\n",
    "c) y =1/4*x^4-2/3*x^3-3/2*x^2+2 - 3 локальных экстремума: 2 локальных минимума и 1 локальный максимум\n",
    "    \n",
    "d) у = корень минус х^2, потому что при любом х, кроме нуля, подкоренное выражение будет отрицательное"
   ]
  },
  {
   "cell_type": "markdown",
   "metadata": {},
   "source": [
    "Задание 2\n",
    "Посчитайте 1-ую и 2-ую производные функции (на бумажке):\n",
    "\n",
    "f(x) = sin^2(2x+1)"
   ]
  },
  {
   "cell_type": "markdown",
   "metadata": {},
   "source": [
    "((sin(2x+1))^2)' = 4sin(2x+1)cos(2x+1)\n",
    "\n",
    "Поскольку:\n",
    "    \n",
    "((sin(2x+1))^2)' = 2(sin(2x+1))^(2-1))(sin(2x+1))' = 4sin(2x+1)cos(2x+1)\n",
    "\n",
    "(sin(2x+1))' = (sin(2x+1))'(2x+1)' = 2cos(2x+1)\n",
    "\n",
    "(2x+1)' = 2\n",
    "\n",
    "((sin(2x+1))^2)\" = (4sin(2x+1)cos(2x+1))' = -8sin(2x+1)^2 + 8cos(2x+1)^2\n",
    "\n",
    "Поскольку:\n",
    "    \n",
    "(sin(2x+1)cos(2x+1))' = (cos(2x+1))'sin(2x+1)+cos(2x+1)(sin(2x+1))' = (-2sin(2x+1))sin(2x+1) + cos(2x+1)2cos(2x+1)\n",
    "\n",
    "(cos(2x+1))' = (cos(2x+1))'(2x+1)' = -2sin(2x+1)\n",
    "\n",
    "(sin(2x+1))' = (sin(2x+1))'(2x+1)' = 2cos(2x+1)\n",
    "\n",
    "(2x+1)' = 2"
   ]
  },
  {
   "cell_type": "markdown",
   "metadata": {},
   "source": [
    "Задание 3:\n",
    "Посчитайте частные производные функции в точкe (на бумажке или в LaTeX и на numpy):\n",
    "\n",
    "f(x,y)=2x^2y^3 + 1/x + y^2x + 7 в точке (1,2)"
   ]
  },
  {
   "cell_type": "markdown",
   "metadata": {},
   "source": [
    "z = 2*x^2*y^3+1/x+y^2*x+7\n",
    "\n",
    "При нахождении ∂z/∂x считаем аргумент y постоянным:\n",
    "∂z/∂x = 4xy^3 + y^2 - 1/x^2\n",
    "\n",
    "При нахождении ∂z/∂y считаем аргумент x постоянным:\n",
    "∂z/∂y = 6x^2*y^2 + 2xy\n",
    "\n",
    "Найдем частные производные в точке А(1;2):\n",
    "∂z/∂x(1;2) = 4*1*2^3 + 2^2 - 1/1^2 = 35\n",
    "\n",
    "∂z/∂y(1;2) = 6*1^2*2^2 + 2*1*2 = 28\n",
    "\n",
    "Найдем смешанные частные производные:\n",
    "\n",
    "Для того, чтобы найти ∂^2z/∂x∂y дифференцируем ∂z/∂x по у:\n",
    "∂^2z/∂x∂y = (4xy^3 + y^2 - 1/x^2)'y = 12xy^2 + 2y\n",
    "\n",
    "Частная производная в точке А(1;2):\n",
    "∂^2z/∂x∂y(1;2) = 12*1*2^2 + 2*2 = 52"
   ]
  },
  {
   "cell_type": "code",
   "execution_count": 8,
   "metadata": {},
   "outputs": [],
   "source": [
    "x = np.ones(2)\n",
    "y = np.ones(2)"
   ]
  },
  {
   "cell_type": "code",
   "execution_count": 9,
   "metadata": {},
   "outputs": [],
   "source": [
    "def foo(x, y):\n",
    "  return(2*x**2*y**3 + 1/x + y**2*x)"
   ]
  },
  {
   "cell_type": "code",
   "execution_count": 10,
   "metadata": {},
   "outputs": [],
   "source": [
    "def partial_derivative(func, var=0, point=[]):\n",
    "    args = point[:]\n",
    "    def wraps(x): \n",
    "        args[var] = x\n",
    "        return func(*args)\n",
    "    return derivative(wraps, point[var], dx = 1e-6)"
   ]
  },
  {
   "cell_type": "code",
   "execution_count": 11,
   "metadata": {},
   "outputs": [
    {
     "data": {
      "text/plain": [
       "35.00000000045134"
      ]
     },
     "execution_count": 11,
     "metadata": {},
     "output_type": "execute_result"
    }
   ],
   "source": [
    "partial_derivative(foo, 0, [1,2])"
   ]
  },
  {
   "cell_type": "code",
   "execution_count": 12,
   "metadata": {},
   "outputs": [
    {
     "data": {
      "text/plain": [
       "28.00000000036107"
      ]
     },
     "execution_count": 12,
     "metadata": {},
     "output_type": "execute_result"
    }
   ],
   "source": [
    "partial_derivative(foo, 1, [1,2])"
   ]
  },
  {
   "cell_type": "markdown",
   "metadata": {},
   "source": [
    "Задание 4:\n",
    "Градиентный спуск своими руками"
   ]
  },
  {
   "cell_type": "code",
   "execution_count": 69,
   "metadata": {},
   "outputs": [],
   "source": [
    "def f(x):\n",
    "    return (x[0]**2) + (x[1]**2)"
   ]
  },
  {
   "cell_type": "code",
   "execution_count": 70,
   "metadata": {},
   "outputs": [],
   "source": [
    "x = np.array([100, 200])\n",
    "lr = 0.1"
   ]
  },
  {
   "cell_type": "code",
   "execution_count": 71,
   "metadata": {},
   "outputs": [],
   "source": [
    "for i in range(100):\n",
    "    grad = approx_fprime(x, f,epsilon=1e-6)\n",
    "    x = x - lr*grad"
   ]
  },
  {
   "cell_type": "code",
   "execution_count": 72,
   "metadata": {
    "scrolled": true
   },
   "outputs": [
    {
     "name": "stdout",
     "output_type": "stream",
     "text": [
      "Минимум достигается в:  [-4.7962964e-07 -4.5925928e-07]\n",
      "Значение функции в минимуме:  4.4096367809465753e-13\n"
     ]
    }
   ],
   "source": [
    "print(\"Минимум достигается в: \", x)\n",
    "print(\"Значение функции в минимуме: \", f(x))"
   ]
  },
  {
   "cell_type": "markdown",
   "metadata": {},
   "source": [
    "Проверка с помощью встроенной функции scipy:"
   ]
  },
  {
   "cell_type": "code",
   "execution_count": 73,
   "metadata": {
    "scrolled": true
   },
   "outputs": [
    {
     "name": "stdout",
     "output_type": "stream",
     "text": [
      "Optimization terminated successfully.\n",
      "         Current function value: 0.000000\n",
      "         Iterations: 1\n",
      "         Function evaluations: 3\n"
     ]
    }
   ],
   "source": [
    "res = minimize(f, x, method='nelder-mead', options={'xtol': 1e-6, 'disp': True})"
   ]
  },
  {
   "cell_type": "code",
   "execution_count": null,
   "metadata": {},
   "outputs": [],
   "source": []
  }
 ],
 "metadata": {
  "kernelspec": {
   "display_name": "Python 3",
   "language": "python",
   "name": "python3"
  },
  "language_info": {
   "codemirror_mode": {
    "name": "ipython",
    "version": 3
   },
   "file_extension": ".py",
   "mimetype": "text/x-python",
   "name": "python",
   "nbconvert_exporter": "python",
   "pygments_lexer": "ipython3",
   "version": "3.7.4"
  }
 },
 "nbformat": 4,
 "nbformat_minor": 2
}
